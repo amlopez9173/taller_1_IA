{
 "cells": [
  {
   "cell_type": "code",
   "execution_count": 93,
   "metadata": {},
   "outputs": [],
   "source": [
    "lista=[1,2,3,4,5,6,6,6,7,8,9,0,13,12,14,16,18,8,7,6,7,7]"
   ]
  },
  {
   "cell_type": "code",
   "execution_count": 94,
   "metadata": {},
   "outputs": [
    {
     "name": "stdout",
     "output_type": "stream",
     "text": [
      "[1, 2, 3, 4, 5, 6, 6, 6, 7, 8, 9, 0, 13, 12, 14, 16, 18, 8, 7, 6, 7, 7]\n"
     ]
    }
   ],
   "source": [
    "print(lista)"
   ]
  },
  {
   "cell_type": "code",
   "execution_count": 95,
   "metadata": {},
   "outputs": [
    {
     "name": "stdout",
     "output_type": "stream",
     "text": [
      "la moda es: [6, 7]\n"
     ]
    }
   ],
   "source": [
    "repeticiones = 0                                                                         \n",
    "for i in lista:                                                                              \n",
    "    apariciones = lista.count(i)                                                             \n",
    "    if apariciones > repeticiones:                                                       \n",
    "        repeticiones = apariciones                                                       \n",
    "                                                                                         \n",
    "modas = []                                                                               \n",
    "for i in lista:                                                                              \n",
    "    apariciones = lista.count(i)                                                             \n",
    "    if apariciones == repeticiones and i not in modas:                                   \n",
    "        modas.append(i)                                                                  \n",
    "                                                                                         \n",
    "print (\"la moda es:\", modas) "
   ]
  },
  {
   "cell_type": "code",
   "execution_count": 96,
   "metadata": {},
   "outputs": [
    {
     "name": "stdout",
     "output_type": "stream",
     "text": [
      "la mediana es: 7\n"
     ]
    }
   ],
   "source": [
    "lista.sort()                                                                                                                                                                  \n",
    "                                                                                         \n",
    "if len(lista) % 2 == 0:                                                                      \n",
    "    n = len(lista)                                                                           \n",
    "    mediana = (lista[n//2-1]+ lista[n//2] )//2                                                      \n",
    "else:                                                                                    \n",
    "    mediana =lista[len(lista)//2]                                                                 \n",
    "                                                                                         \n",
    "print (\"la mediana es:\", mediana)"
   ]
  },
  {
   "cell_type": "code",
   "execution_count": 97,
   "metadata": {},
   "outputs": [
    {
     "name": "stdout",
     "output_type": "stream",
     "text": [
      "el promedio es: 7.5\n"
     ]
    }
   ],
   "source": [
    "def promediarLista(lista):\n",
    "    sum=0.0\n",
    "    for i in range(0,len(lista)):\n",
    "        sum=sum+lista[i]\n",
    "    return sum/len(lista)\n",
    "    return lista\n",
    "print (\"el promedio es:\", promediarLista(lista))"
   ]
  },
  {
   "cell_type": "code",
   "execution_count": 98,
   "metadata": {},
   "outputs": [
    {
     "name": "stdout",
     "output_type": "stream",
     "text": [
      "la varianza es: 21.952380952380953\n"
     ]
    }
   ],
   "source": [
    "def varianza(lista):\n",
    "    resta = []\n",
    "    mediaMuestra = sum(lista) // len(lista)\n",
    "    for i in lista:\n",
    "        resta.append(pow((i - mediaMuestra), 2))\n",
    "    sumaOperacion = sum(resta)\n",
    "    varianza = sumaOperacion / (len(lista) - 1)\n",
    "    return varianza\n",
    "print(\"la varianza es:\", varianza(lista))"
   ]
  },
  {
   "cell_type": "code",
   "execution_count": 99,
   "metadata": {},
   "outputs": [
    {
     "name": "stdout",
     "output_type": "stream",
     "text": [
      "la desviacion es: 4.68533680244878\n"
     ]
    }
   ],
   "source": [
    "from math import sqrt\n",
    "def desviacion():\n",
    "    desviacion = sqrt(varianza(lista))\n",
    "    return desviacion\n",
    "print(\"la desviacion es:\", desviacion())\n"
   ]
  }
 ],
 "metadata": {
  "kernelspec": {
   "display_name": "Python 3",
   "language": "python",
   "name": "python3"
  },
  "language_info": {
   "codemirror_mode": {
    "name": "ipython",
    "version": 3
   },
   "file_extension": ".py",
   "mimetype": "text/x-python",
   "name": "python",
   "nbconvert_exporter": "python",
   "pygments_lexer": "ipython3",
   "version": "3.6.4"
  }
 },
 "nbformat": 4,
 "nbformat_minor": 2
}
